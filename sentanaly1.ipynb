{
 "cells": [
  {
   "cell_type": "code",
   "execution_count": 5,
   "metadata": {},
   "outputs": [
    {
     "name": "stdout",
     "output_type": "stream",
     "text": [
      "WARNING:tensorflow:From C:\\Users\\raghu\\AppData\\Roaming\\Python\\Python39\\site-packages\\keras\\src\\losses.py:2976: The name tf.losses.sparse_softmax_cross_entropy is deprecated. Please use tf.compat.v1.losses.sparse_softmax_cross_entropy instead.\n",
      "\n"
     ]
    }
   ],
   "source": [
    "import numpy as np\n",
    "import pandas as pd \n",
    "import re\n",
    "from sklearn.model_selection import train_test_split\n",
    "from tensorflow.keras.preprocessing.text import Tokenizer\n",
    "from tensorflow.keras.preprocessing.sequence import pad_sequences\n",
    "from tensorflow.keras.models import Sequential\n",
    "from tensorflow.keras.layers import Embedding, LSTM, Dense\n",
    "from sklearn.metrics import confusion_matrix, classification_report\n",
    "from tensorflow.keras.optimizers import SGD, Adam\n",
    "import bz2\n",
    "import csv\n",
    "from sklearn.metrics import roc_auc_score"
   ]
  },
  {
   "cell_type": "code",
   "execution_count": 7,
   "metadata": {},
   "outputs": [
    {
     "name": "stdout",
     "output_type": "stream",
     "text": [
      "3600000\n",
      "400000\n"
     ]
    }
   ],
   "source": [
    "# Load the training data \n",
    "training_data = bz2.BZ2File(\"C:\\\\Users\\\\raghu\\\\CS6120_mywork_NLP\\\\Fianl_project\\\\train.ft.txt.bz2\")\n",
    "training_data = training_data.readlines()\n",
    "training_data = [x.decode('utf-8') for x in training_data]\n",
    "print(len(training_data))\n",
    "\n",
    "# Load the test data \n",
    "test_data = bz2.BZ2File(\"C:\\\\Users\\\\raghu\\\\CS6120_mywork_NLP\\\\Fianl_project\\\\test.ft.txt.bz2\")\n",
    "test_data = test_data.readlines()\n",
    "test_data = [x.decode('utf-8') for x in test_data]\n",
    "print(len(test_data))"
   ]
  },
  {
   "cell_type": "code",
   "execution_count": 8,
   "metadata": {},
   "outputs": [],
   "source": [
    "# Split the data into labels and texts\n",
    "traing_labels = [int(re.findall(r'__label__(\\d)', line)[0]) for line in training_data]\n",
    "trainig_texts = [re.sub(r'__label__\\d ', '', line) for line in training_data]\n",
    "\n",
    "test_labels = [int(re.findall(r'__label__(\\d)', line)[0]) for line in test_data]\n",
    "test_texts = [re.sub(r'__label__\\d ', '', line) for line in test_data]\n",
    "\n",
    "# Convert labels to binary (0 and 1)\n",
    "traing_labels = [0 if label == 1 else 1 for label in traing_labels]\n",
    "test_labels = [0 if label == 1 else 1 for label in test_labels]"
   ]
  },
  {
   "cell_type": "code",
   "execution_count": 9,
   "metadata": {},
   "outputs": [],
   "source": [
    "# Tokenization and padding\n",
    "max_words = 1000\n",
    "max_sequence_length = 100\n",
    "\n",
    "tokenizer = Tokenizer(num_words=max_words)\n",
    "tokenizer.fit_on_texts(trainig_texts)\n",
    "\n",
    "X_train = tokenizer.texts_to_sequences(trainig_texts)\n",
    "X_test = tokenizer.texts_to_sequences(test_texts)\n",
    "\n",
    "X_train = pad_sequences(X_train, maxlen=max_sequence_length)\n",
    "X_test = pad_sequences(X_test, maxlen=max_sequence_length)"
   ]
  },
  {
   "cell_type": "code",
   "execution_count": 10,
   "metadata": {},
   "outputs": [
    {
     "name": "stdout",
     "output_type": "stream",
     "text": [
      "(3600000, 100)\n",
      "(400000, 100)\n",
      "(3600000,)\n",
      "(400000,)\n"
     ]
    }
   ],
   "source": [
    "X_train = np.array(X_train)\n",
    "print(X_train.shape)\n",
    "X_test = np.array(X_test)\n",
    "print(X_test.shape)\n",
    "y_train = np.array(traing_labels)\n",
    "print(y_train.shape)\n",
    "y_test = np.array(test_labels)\n",
    "print(y_test.shape)"
   ]
  },
  {
   "cell_type": "code",
   "execution_count": 12,
   "metadata": {},
   "outputs": [
    {
     "name": "stdout",
     "output_type": "stream",
     "text": [
      "1758/1758 [==============================] - 3393s 2s/step - loss: 0.6397 - accuracy: 0.6165\n",
      "12500/12500 [==============================] - 404s 32ms/step - loss: 0.4862 - accuracy: 0.7683\n"
     ]
    }
   ],
   "source": [
    "def create_model(optimizer, activation_function, lstm_layers):\n",
    "    model = Sequential()\n",
    "    model.add(Embedding(input_dim=max_words, output_dim=128, input_length=max_sequence_length))\n",
    "    for _ in range(lstm_layers):\n",
    "        model.add(LSTM(128, return_sequences=True))\n",
    "    model.add(LSTM(128, return_sequences=False))\n",
    "    model.add(Dense(1, activation=activation_function))\n",
    "    model.compile(loss='binary_crossentropy', optimizer=optimizer, metrics=['accuracy'])\n",
    "    return model\n",
    "\n",
    "# Define different configurations\n",
    "configurations = [\n",
    "    {\"optimizer\": SGD(learning_rate=0.1), \"activation_function\": 'sigmoid', \"lstm_layers\": 1},\n",
    "    # {\"optimizer\": Adam(learning_rate=0.001), \"activation_function\": 'relu', \"lstm_layers\": 2},\n",
    "]\n",
    "\n",
    "results = []\n",
    "\n",
    "for config in configurations:\n",
    "    model = create_model(config[\"optimizer\"], config[\"activation_function\"], config[\"lstm_layers\"])\n",
    "    model.fit(X_train, y_train, epochs=1, batch_size=2048, verbose=1)\n",
    "    loss, accuracy = model.evaluate(X_test, y_test)\n",
    "    results.append({\"config\": config, \"loss\": loss, \"accuracy\": accuracy})"
   ]
  },
  {
   "cell_type": "code",
   "execution_count": 13,
   "metadata": {},
   "outputs": [
    {
     "name": "stdout",
     "output_type": "stream",
     "text": [
      "Configuration: Optimizer=<keras.src.optimizers.sgd.SGD object at 0x00000218729F8190>, Activation=sigmoid, LSTM Layers=1\n",
      "Test Loss: 0.48623278737068176, Test Accuracy: 0.7682899832725525\n",
      "\n"
     ]
    }
   ],
   "source": [
    "for result in results:\n",
    "    config = result[\"config\"]\n",
    "    loss = result[\"loss\"]\n",
    "    accuracy = result[\"accuracy\"]\n",
    "    print(f\"Configuration: Optimizer={config['optimizer']}, Activation={config['activation_function']}, LSTM Layers={config['lstm_layers']}\")\n",
    "    print(f\"Test Loss: {loss}, Test Accuracy: {accuracy}\\n\")"
   ]
  },
  {
   "cell_type": "code",
   "execution_count": 14,
   "metadata": {},
   "outputs": [
    {
     "name": "stdout",
     "output_type": "stream",
     "text": [
      "12500/12500 [==============================] - 422s 34ms/step\n",
      "Confusion Matrix:\n",
      "[[168966  31034]\n",
      " [ 61650 138350]]\n",
      "Classification Report:\n",
      "              precision    recall  f1-score   support\n",
      "\n",
      "           0       0.73      0.84      0.78    200000\n",
      "           1       0.82      0.69      0.75    200000\n",
      "\n",
      "    accuracy                           0.77    400000\n",
      "   macro avg       0.77      0.77      0.77    400000\n",
      "weighted avg       0.77      0.77      0.77    400000\n",
      "\n"
     ]
    }
   ],
   "source": [
    "# Evaluate with a confusion matrix and classification report\n",
    "y_pred = model.predict(X_test)\n",
    "y_pred = (y_pred > 0.5)\n",
    "cm = confusion_matrix(y_test, y_pred)\n",
    "print(\"Confusion Matrix:\")\n",
    "print(cm)\n",
    "\n",
    "report = classification_report(y_test, y_pred)\n",
    "print(\"Classification Report:\")\n",
    "print(report)"
   ]
  }
 ],
 "metadata": {
  "kernelspec": {
   "display_name": "Python 3",
   "language": "python",
   "name": "python3"
  },
  "language_info": {
   "codemirror_mode": {
    "name": "ipython",
    "version": 3
   },
   "file_extension": ".py",
   "mimetype": "text/x-python",
   "name": "python",
   "nbconvert_exporter": "python",
   "pygments_lexer": "ipython3",
   "version": "3.9.13"
  }
 },
 "nbformat": 4,
 "nbformat_minor": 2
}
